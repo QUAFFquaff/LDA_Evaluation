{
 "cells": [
  {
   "cell_type": "code",
   "execution_count": 1,
   "metadata": {},
   "outputs": [],
   "source": [
    "import numpy as np\n",
    "import logging\n",
    "import pyLDAvis.gensim\n",
    "import json\n",
    "import warnings"
   ]
  },
  {
   "cell_type": "code",
   "execution_count": 20,
   "metadata": {},
   "outputs": [],
   "source": [
    "# add log\n",
    "warnings.filterwarnings('ignore')  # To ignore all warnings that arise here to enhance clarit"
   ]
  },
  {
   "cell_type": "code",
   "execution_count": 6,
   "metadata": {},
   "outputs": [
    {
     "name": "stderr",
     "output_type": "stream",
     "text": [
      "INFO:gensim.summarization.textcleaner:'pattern' package not found; tag filters are not available for English\n"
     ]
    }
   ],
   "source": [
    "from gensim.models.coherencemodel import CoherenceModel\n",
    "from gensim.models.ldamodel import LdaModel\n",
    "from gensim.corpora.dictionary import Dictionary\n",
    "from numpy import array"
   ]
  },
  {
   "cell_type": "code",
   "execution_count": 3,
   "metadata": {},
   "outputs": [
    {
     "name": "stderr",
     "output_type": "stream",
     "text": [
      "DEBUG:root:test\n"
     ]
    }
   ],
   "source": [
    "# set up logging\n",
    "logger = logging.getLogger()\n",
    "logger.setLevel(logging.DEBUG)\n",
    "logging.debug(\"test\")"
   ]
  },
  {
   "cell_type": "code",
   "execution_count": 7,
   "metadata": {},
   "outputs": [
    {
     "name": "stderr",
     "output_type": "stream",
     "text": [
      "INFO:gensim.corpora.dictionary:adding document #0 to Dictionary(0 unique tokens: [])\n",
      "INFO:gensim.corpora.dictionary:built Dictionary(12 unique tokens: ['computer', 'human', 'interface', 'response', 'survey']...) from 9 documents (total 29 corpus positions)\n"
     ]
    }
   ],
   "source": [
    "# set up corpus\n",
    "texts = [['human', 'interface', 'computer'],\n",
    "         ['survey', 'user', 'computer', 'system', 'response', 'time'],\n",
    "         ['eps', 'user', 'interface', 'system'],\n",
    "         ['system', 'human', 'system', 'eps'],\n",
    "         ['user', 'response', 'time'],\n",
    "         ['trees'],\n",
    "         ['graph', 'trees'],\n",
    "         ['graph', 'minors', 'trees'],\n",
    "         ['graph', 'minors', 'survey']]\n",
    "dictionary = Dictionary(texts)\n",
    "corpus = [dictionary.doc2bow(text) for text in texts]"
   ]
  },
  {
   "cell_type": "code",
   "execution_count": 8,
   "metadata": {},
   "outputs": [
    {
     "name": "stderr",
     "output_type": "stream",
     "text": [
      "INFO:gensim.models.ldamodel:using symmetric alpha at 0.5\n",
      "INFO:gensim.models.ldamodel:using symmetric eta at 0.5\n",
      "INFO:gensim.models.ldamodel:using serial LDA version on this node\n",
      "INFO:gensim.models.ldamodel:running online (single-pass) LDA training, 2 topics, 1 passes over the supplied corpus of 9 documents, updating model once every 9 documents, evaluating perplexity every 9 documents, iterating 50x with a convergence threshold of 0.001000\n",
      "WARNING:gensim.models.ldamodel:too few updates, training might not converge; consider increasing the number of passes or iterations to improve accuracy\n",
      "DEBUG:gensim.models.ldamodel:bound: at document #0\n",
      "INFO:gensim.models.ldamodel:-3.294 per-word bound, 9.8 perplexity estimate based on a held-out corpus of 9 documents with 29 words\n",
      "INFO:gensim.models.ldamodel:PROGRESS: pass 0, at document #9/9\n",
      "DEBUG:gensim.models.ldamodel:performing inference on a chunk of 9 documents\n",
      "DEBUG:gensim.models.ldamodel:6/9 documents converged within 50 iterations\n",
      "DEBUG:gensim.models.ldamodel:updating topics\n",
      "INFO:gensim.models.ldamodel:topic #0 (0.500): 0.116*\"time\" + 0.116*\"user\" + 0.114*\"response\" + 0.104*\"computer\" + 0.102*\"survey\" + 0.097*\"system\" + 0.072*\"human\" + 0.070*\"graph\" + 0.060*\"interface\" + 0.059*\"minors\"\n",
      "INFO:gensim.models.ldamodel:topic #1 (0.500): 0.146*\"system\" + 0.138*\"trees\" + 0.124*\"graph\" + 0.111*\"eps\" + 0.086*\"minors\" + 0.086*\"interface\" + 0.080*\"user\" + 0.074*\"human\" + 0.045*\"survey\" + 0.044*\"computer\"\n",
      "INFO:gensim.models.ldamodel:topic diff=0.495337, rho=1.000000\n",
      "INFO:gensim.models.ldamodel:using symmetric alpha at 0.5\n",
      "INFO:gensim.models.ldamodel:using symmetric eta at 0.5\n",
      "INFO:gensim.models.ldamodel:using serial LDA version on this node\n",
      "INFO:gensim.models.ldamodel:running online (single-pass) LDA training, 2 topics, 1 passes over the supplied corpus of 9 documents, updating model once every 9 documents, evaluating perplexity every 9 documents, iterating 1x with a convergence threshold of 0.001000\n",
      "WARNING:gensim.models.ldamodel:too few updates, training might not converge; consider increasing the number of passes or iterations to improve accuracy\n",
      "DEBUG:gensim.models.ldamodel:bound: at document #0\n",
      "INFO:gensim.models.ldamodel:-3.303 per-word bound, 9.9 perplexity estimate based on a held-out corpus of 9 documents with 29 words\n",
      "INFO:gensim.models.ldamodel:PROGRESS: pass 0, at document #9/9\n",
      "DEBUG:gensim.models.ldamodel:performing inference on a chunk of 9 documents\n",
      "DEBUG:gensim.models.ldamodel:0/9 documents converged within 1 iterations\n",
      "DEBUG:gensim.models.ldamodel:updating topics\n",
      "INFO:gensim.models.ldamodel:topic #0 (0.500): 0.111*\"system\" + 0.111*\"graph\" + 0.089*\"trees\" + 0.086*\"interface\" + 0.085*\"minors\" + 0.085*\"user\" + 0.079*\"survey\" + 0.079*\"human\" + 0.077*\"computer\" + 0.075*\"response\"\n",
      "INFO:gensim.models.ldamodel:topic #1 (0.500): 0.133*\"system\" + 0.110*\"user\" + 0.107*\"trees\" + 0.085*\"eps\" + 0.084*\"graph\" + 0.084*\"time\" + 0.071*\"response\" + 0.070*\"computer\" + 0.067*\"human\" + 0.067*\"survey\"\n",
      "INFO:gensim.models.ldamodel:topic diff=0.205536, rho=1.000000\n"
     ]
    }
   ],
   "source": [
    "# set up two topic models\n",
    "goodLdaModel = LdaModel(corpus=corpus, id2word=dictionary, iterations=50, num_topics=2)\n",
    "badLdaModel = LdaModel(corpus=corpus, id2word=dictionary, iterations=1, num_topics=2)"
   ]
  },
  {
   "cell_type": "code",
   "execution_count": 9,
   "metadata": {},
   "outputs": [
    {
     "name": "stderr",
     "output_type": "stream",
     "text": [
      "DEBUG:gensim.models.coherencemodel:Setting topics to those of the model: LdaModel(num_terms=12, num_topics=2, decay=0.5, chunksize=2000)\n",
      "DEBUG:gensim.models.coherencemodel:Setting topics to those of the model: LdaModel(num_terms=12, num_topics=2, decay=0.5, chunksize=2000)\n"
     ]
    }
   ],
   "source": [
    "# using U_Mass Coherence\n",
    "goodcm = CoherenceModel(model=goodLdaModel, corpus=corpus, dictionary=dictionary, coherence='u_mass')\n",
    "badcm = CoherenceModel(model=badLdaModel, corpus=corpus, dictionary=dictionary, coherence='u_mass')"
   ]
  },
  {
   "cell_type": "code",
   "execution_count": 11,
   "metadata": {},
   "outputs": [
    {
     "name": "stdout",
     "output_type": "stream",
     "text": [
      "Coherence_Measure(seg=<function s_one_pre at 0x000002B36B8FF488>, prob=<function p_boolean_document at 0x000002B36B8FF620>, conf=<function log_conditional_probability at 0x000002B36B9B9378>, aggr=<function arithmetic_mean at 0x000002B36B9B9AE8>)\n"
     ]
    }
   ],
   "source": [
    "# view\n",
    "print(goodcm)"
   ]
  },
  {
   "cell_type": "code",
   "execution_count": 12,
   "metadata": {},
   "outputs": [
    {
     "name": "stderr",
     "output_type": "stream",
     "text": [
      "DEBUG:gensim.models.ldamodel:performing inference on a chunk of 9 documents\n",
      "DEBUG:gensim.models.ldamodel:9/9 documents converged within 50 iterations\n"
     ]
    },
    {
     "data": {
      "text/html": [
       "\n",
       "<link rel=\"stylesheet\" type=\"text/css\" href=\"https://cdn.rawgit.com/bmabey/pyLDAvis/files/ldavis.v1.0.0.css\">\n",
       "\n",
       "\n",
       "<div id=\"ldavis_el1430029696071507129886747931\"></div>\n",
       "<script type=\"text/javascript\">\n",
       "\n",
       "var ldavis_el1430029696071507129886747931_data = {\"mdsDat\": {\"Freq\": [52.83150100708008, 47.16850280761719], \"cluster\": [1, 1], \"topics\": [1, 2], \"x\": [0.03353437781333923, -0.03353437781333923], \"y\": [0.0, 0.0]}, \"tinfo\": {\"Category\": [\"Default\", \"Default\", \"Default\", \"Default\", \"Default\", \"Default\", \"Default\", \"Default\", \"Default\", \"Default\", \"Default\", \"Default\", \"Topic1\", \"Topic1\", \"Topic1\", \"Topic1\", \"Topic1\", \"Topic1\", \"Topic1\", \"Topic1\", \"Topic1\", \"Topic1\", \"Topic1\", \"Topic1\", \"Topic2\", \"Topic2\", \"Topic2\", \"Topic2\", \"Topic2\", \"Topic2\", \"Topic2\", \"Topic2\", \"Topic2\", \"Topic2\", \"Topic2\", \"Topic2\"], \"Freq\": [2.0, 2.0, 2.0, 2.0, 2.0, 2.0, 2.0, 2.0, 3.0, 2.0, 2.0, 2.0, 1.7005561590194702, 2.1200873851776123, 1.900368094444275, 2.240168571472168, 1.3230549097061157, 1.3149093389511108, 1.1368311643600464, 1.2239551544189453, 0.6931251883506775, 0.6684041023254395, 0.5158164501190186, 0.483857661485672, 1.5929570198059082, 1.5632619857788086, 1.4214831590652466, 1.3985133171081543, 1.58613121509552, 0.9862374067306519, 0.8207740187644958, 0.8132054805755615, 1.3227483034133911, 0.9576314687728882, 0.7534770369529724, 0.46244484186172485], \"Term\": [\"time\", \"response\", \"eps\", \"computer\", \"trees\", \"survey\", \"user\", \"graph\", \"system\", \"minors\", \"interface\", \"human\", \"eps\", \"trees\", \"graph\", \"system\", \"minors\", \"interface\", \"human\", \"user\", \"survey\", \"computer\", \"response\", \"time\", \"time\", \"response\", \"computer\", \"survey\", \"user\", \"human\", \"interface\", \"minors\", \"system\", \"graph\", \"trees\", \"eps\"], \"Total\": [2.0, 2.0, 2.0, 2.0, 2.0, 2.0, 2.0, 2.0, 3.0, 2.0, 2.0, 2.0, 2.16300106048584, 2.8735644817352295, 2.857999563217163, 3.5629167556762695, 2.136260509490967, 2.135683298110962, 2.1230685710906982, 2.810086250305176, 2.0916385650634766, 2.0898871421813965, 2.079078435897827, 2.076814651489258, 2.076814651489258, 2.079078435897827, 2.0898871421813965, 2.0916385650634766, 2.810086250305176, 2.1230685710906982, 2.135683298110962, 2.136260509490967, 3.5629167556762695, 2.857999563217163, 2.8735644817352295, 2.16300106048584], \"loglift\": [12.0, 11.0, 10.0, 9.0, 8.0, 7.0, 6.0, 5.0, 4.0, 3.0, 2.0, 1.0, 0.39750000834465027, 0.33399999141693115, 0.23000000417232513, 0.17399999499320984, 0.15889999270439148, 0.15299999713897705, 0.013399999588727951, -0.1931000053882599, -0.46639999747276306, -0.5019000172615051, -0.7559000253677368, -0.8187000155448914, 0.4862000048160553, 0.46630001068115234, 0.3659999966621399, 0.3488999903202057, 0.17949999868869781, -0.015300000086426735, -0.20489999651908875, -0.21439999341964722, -0.2393999993801117, -0.34200000762939453, -0.5871999859809875, -0.7912999987602234], \"logprob\": [12.0, 11.0, 10.0, 9.0, 8.0, 7.0, 6.0, 5.0, 4.0, 3.0, 2.0, 1.0, -2.1982998847961426, -1.9778000116348267, -2.0871999263763428, -1.922700047492981, -2.4493000507354736, -2.4554998874664307, -2.6010000705718994, -2.527100086212158, -3.0957999229431152, -3.1321001052856445, -3.391200065612793, -3.455199956893921, -2.1503000259399414, -2.169100046157837, -2.26419997215271, -2.280400037765503, -2.154599905014038, -2.629699945449829, -2.8134000301361084, -2.8225998878479004, -2.3361001014709473, -2.65910005569458, -2.898900032043457, -3.3870999813079834]}, \"token.table\": {\"Topic\": [1, 2, 1, 1, 2, 1, 2, 1, 2, 1, 2, 1, 2, 1, 2, 1, 2, 2, 1, 2, 1, 2], \"Freq\": [0.4784947335720062, 0.4784947335720062, 0.9246412515640259, 0.6997901797294617, 0.34989508986473083, 0.4710163474082947, 0.4710163474082947, 0.46823421120643616, 0.46823421120643616, 0.4681077003479004, 0.4681077003479004, 0.48098233342170715, 0.9619646668434143, 0.47809407114982605, 0.47809407114982605, 0.5613378286361694, 0.2806689143180847, 0.963013231754303, 0.6959996819496155, 0.34799984097480774, 0.35586094856262207, 0.7117218971252441], \"Term\": [\"computer\", \"computer\", \"eps\", \"graph\", \"graph\", \"human\", \"human\", \"interface\", \"interface\", \"minors\", \"minors\", \"response\", \"response\", \"survey\", \"survey\", \"system\", \"system\", \"time\", \"trees\", \"trees\", \"user\", \"user\"]}, \"R\": 12, \"lambda.step\": 0.01, \"plot.opts\": {\"xlab\": \"PC1\", \"ylab\": \"PC2\"}, \"topic.order\": [2, 1]};\n",
       "\n",
       "function LDAvis_load_lib(url, callback){\n",
       "  var s = document.createElement('script');\n",
       "  s.src = url;\n",
       "  s.async = true;\n",
       "  s.onreadystatechange = s.onload = callback;\n",
       "  s.onerror = function(){console.warn(\"failed to load library \" + url);};\n",
       "  document.getElementsByTagName(\"head\")[0].appendChild(s);\n",
       "}\n",
       "\n",
       "if(typeof(LDAvis) !== \"undefined\"){\n",
       "   // already loaded: just create the visualization\n",
       "   !function(LDAvis){\n",
       "       new LDAvis(\"#\" + \"ldavis_el1430029696071507129886747931\", ldavis_el1430029696071507129886747931_data);\n",
       "   }(LDAvis);\n",
       "}else if(typeof define === \"function\" && define.amd){\n",
       "   // require.js is available: use it to load d3/LDAvis\n",
       "   require.config({paths: {d3: \"https://cdnjs.cloudflare.com/ajax/libs/d3/3.5.5/d3.min\"}});\n",
       "   require([\"d3\"], function(d3){\n",
       "      window.d3 = d3;\n",
       "      LDAvis_load_lib(\"https://cdn.rawgit.com/bmabey/pyLDAvis/files/ldavis.v1.0.0.js\", function(){\n",
       "        new LDAvis(\"#\" + \"ldavis_el1430029696071507129886747931\", ldavis_el1430029696071507129886747931_data);\n",
       "      });\n",
       "    });\n",
       "}else{\n",
       "    // require.js not available: dynamically load d3 & LDAvis\n",
       "    LDAvis_load_lib(\"https://cdnjs.cloudflare.com/ajax/libs/d3/3.5.5/d3.min.js\", function(){\n",
       "         LDAvis_load_lib(\"https://cdn.rawgit.com/bmabey/pyLDAvis/files/ldavis.v1.0.0.js\", function(){\n",
       "                 new LDAvis(\"#\" + \"ldavis_el1430029696071507129886747931\", ldavis_el1430029696071507129886747931_data);\n",
       "            })\n",
       "         });\n",
       "}\n",
       "</script>"
      ],
      "text/plain": [
       "PreparedData(topic_coordinates=            Freq  cluster  topics         x    y\n",
       "topic                                           \n",
       "1      52.831501        1       1  0.033534  0.0\n",
       "0      47.168503        1       2 -0.033534  0.0, topic_info=     Category      Freq       Term     Total  loglift  logprob\n",
       "term                                                          \n",
       "6     Default  2.000000       time  2.000000  12.0000  12.0000\n",
       "3     Default  2.000000   response  2.000000  11.0000  11.0000\n",
       "8     Default  2.000000        eps  2.000000  10.0000  10.0000\n",
       "0     Default  2.000000   computer  2.000000   9.0000   9.0000\n",
       "9     Default  2.000000      trees  2.000000   8.0000   8.0000\n",
       "4     Default  2.000000     survey  2.000000   7.0000   7.0000\n",
       "7     Default  2.000000       user  2.000000   6.0000   6.0000\n",
       "10    Default  2.000000      graph  2.000000   5.0000   5.0000\n",
       "5     Default  3.000000     system  3.000000   4.0000   4.0000\n",
       "11    Default  2.000000     minors  2.000000   3.0000   3.0000\n",
       "2     Default  2.000000  interface  2.000000   2.0000   2.0000\n",
       "1     Default  2.000000      human  2.000000   1.0000   1.0000\n",
       "8      Topic1  1.700556        eps  2.163001   0.3975  -2.1983\n",
       "9      Topic1  2.120087      trees  2.873564   0.3340  -1.9778\n",
       "10     Topic1  1.900368      graph  2.858000   0.2300  -2.0872\n",
       "5      Topic1  2.240169     system  3.562917   0.1740  -1.9227\n",
       "11     Topic1  1.323055     minors  2.136261   0.1589  -2.4493\n",
       "2      Topic1  1.314909  interface  2.135683   0.1530  -2.4555\n",
       "1      Topic1  1.136831      human  2.123069   0.0134  -2.6010\n",
       "7      Topic1  1.223955       user  2.810086  -0.1931  -2.5271\n",
       "4      Topic1  0.693125     survey  2.091639  -0.4664  -3.0958\n",
       "0      Topic1  0.668404   computer  2.089887  -0.5019  -3.1321\n",
       "3      Topic1  0.515816   response  2.079078  -0.7559  -3.3912\n",
       "6      Topic1  0.483858       time  2.076815  -0.8187  -3.4552\n",
       "6      Topic2  1.592957       time  2.076815   0.4862  -2.1503\n",
       "3      Topic2  1.563262   response  2.079078   0.4663  -2.1691\n",
       "0      Topic2  1.421483   computer  2.089887   0.3660  -2.2642\n",
       "4      Topic2  1.398513     survey  2.091639   0.3489  -2.2804\n",
       "7      Topic2  1.586131       user  2.810086   0.1795  -2.1546\n",
       "1      Topic2  0.986237      human  2.123069  -0.0153  -2.6297\n",
       "2      Topic2  0.820774  interface  2.135683  -0.2049  -2.8134\n",
       "11     Topic2  0.813205     minors  2.136261  -0.2144  -2.8226\n",
       "5      Topic2  1.322748     system  3.562917  -0.2394  -2.3361\n",
       "10     Topic2  0.957631      graph  2.858000  -0.3420  -2.6591\n",
       "9      Topic2  0.753477      trees  2.873564  -0.5872  -2.8989\n",
       "8      Topic2  0.462445        eps  2.163001  -0.7913  -3.3871, token_table=      Topic      Freq       Term\n",
       "term                            \n",
       "0         1  0.478495   computer\n",
       "0         2  0.478495   computer\n",
       "8         1  0.924641        eps\n",
       "10        1  0.699790      graph\n",
       "10        2  0.349895      graph\n",
       "1         1  0.471016      human\n",
       "1         2  0.471016      human\n",
       "2         1  0.468234  interface\n",
       "2         2  0.468234  interface\n",
       "11        1  0.468108     minors\n",
       "11        2  0.468108     minors\n",
       "3         1  0.480982   response\n",
       "3         2  0.961965   response\n",
       "4         1  0.478094     survey\n",
       "4         2  0.478094     survey\n",
       "5         1  0.561338     system\n",
       "5         2  0.280669     system\n",
       "6         2  0.963013       time\n",
       "9         1  0.696000      trees\n",
       "9         2  0.348000      trees\n",
       "7         1  0.355861       user\n",
       "7         2  0.711722       user, R=12, lambda_step=0.01, plot_opts={'xlab': 'PC1', 'ylab': 'PC2'}, topic_order=[2, 1])"
      ]
     },
     "execution_count": 12,
     "metadata": {},
     "output_type": "execute_result"
    }
   ],
   "source": [
    "# Visualize topic models\n",
    "pyLDAvis.enable_notebook()\n",
    "pyLDAvis.gensim.prepare(goodLdaModel, corpus, dictionary)\n"
   ]
  },
  {
   "cell_type": "code",
   "execution_count": 13,
   "metadata": {},
   "outputs": [
    {
     "name": "stderr",
     "output_type": "stream",
     "text": [
      "DEBUG:gensim.models.ldamodel:performing inference on a chunk of 9 documents\n",
      "DEBUG:gensim.models.ldamodel:0/9 documents converged within 1 iterations\n"
     ]
    },
    {
     "data": {
      "text/html": [
       "\n",
       "<link rel=\"stylesheet\" type=\"text/css\" href=\"https://cdn.rawgit.com/bmabey/pyLDAvis/files/ldavis.v1.0.0.css\">\n",
       "\n",
       "\n",
       "<div id=\"ldavis_el1430029696677589849197230257\"></div>\n",
       "<script type=\"text/javascript\">\n",
       "\n",
       "var ldavis_el1430029696677589849197230257_data = {\"mdsDat\": {\"Freq\": [50.80669403076172, 49.19330596923828], \"cluster\": [1, 1], \"topics\": [1, 2], \"x\": [0.003648915328085422, -0.003648915328085422], \"y\": [0.0, 0.0]}, \"tinfo\": {\"Category\": [\"Default\", \"Default\", \"Default\", \"Default\", \"Default\", \"Default\", \"Default\", \"Default\", \"Default\", \"Default\", \"Default\", \"Default\", \"Topic1\", \"Topic1\", \"Topic1\", \"Topic1\", \"Topic1\", \"Topic1\", \"Topic1\", \"Topic1\", \"Topic1\", \"Topic1\", \"Topic1\", \"Topic1\", \"Topic2\", \"Topic2\", \"Topic2\", \"Topic2\", \"Topic2\", \"Topic2\", \"Topic2\", \"Topic2\", \"Topic2\", \"Topic2\", \"Topic2\", \"Topic2\"], \"Freq\": [2.0, 2.0, 2.0, 2.0, 2.0, 3.0, 2.0, 2.0, 2.0, 2.0, 2.0, 2.0, 1.274010181427002, 1.2596690654754639, 1.628729224205017, 1.1643344163894653, 1.1642470359802246, 1.1290630102157593, 1.1046369075775146, 1.3069883584976196, 1.6296104192733765, 1.2492226362228394, 0.9168626070022583, 0.9065663814544678, 1.2117605209350586, 1.2016812562942505, 1.5760678052902222, 1.9034408330917358, 1.519522786140442, 1.0178754329681396, 0.9939655661582947, 0.959525465965271, 0.9594389200210571, 1.2045799493789673, 0.8661190271377563, 0.8520808219909668], \"Term\": [\"eps\", \"user\", \"interface\", \"time\", \"minors\", \"system\", \"graph\", \"trees\", \"survey\", \"human\", \"computer\", \"response\", \"interface\", \"minors\", \"graph\", \"survey\", \"human\", \"computer\", \"response\", \"trees\", \"system\", \"user\", \"time\", \"eps\", \"eps\", \"time\", \"user\", \"system\", \"trees\", \"response\", \"computer\", \"human\", \"survey\", \"graph\", \"minors\", \"interface\"], \"Total\": [2.0, 2.0, 2.0, 2.0, 2.0, 3.0, 2.0, 2.0, 2.0, 2.0, 2.0, 2.0, 2.1260910034179688, 2.1257882118225098, 2.8333091735839844, 2.1237733364105225, 2.123772621154785, 2.123028516769409, 2.1225123405456543, 2.8265111446380615, 3.5330512523651123, 2.8252904415130615, 2.118543863296509, 2.1183269023895264, 2.1183269023895264, 2.118543863296509, 2.8252904415130615, 3.5330512523651123, 2.8265111446380615, 2.1225123405456543, 2.123028516769409, 2.123772621154785, 2.1237733364105225, 2.8333091735839844, 2.1257882118225098, 2.1260910034179688], \"loglift\": [12.0, 11.0, 10.0, 9.0, 8.0, 7.0, 6.0, 5.0, 4.0, 3.0, 2.0, 1.0, 0.16500000655651093, 0.15379999577999115, 0.12349999696016312, 0.07609999924898148, 0.07599999755620956, 0.04569999873638153, 0.02410000003874302, -0.094200000166893, -0.09669999778270721, -0.1388999968767166, -0.16040000319480896, -0.17159999907016754, 0.1509000062942505, 0.14239999651908875, 0.1256999969482422, 0.0908999964594841, 0.08879999816417694, -0.025499999523162842, -0.0494999997317791, -0.08510000258684158, -0.0851999968290329, -0.14589999616146088, -0.18850000202655792, -0.20489999651908875], \"logprob\": [12.0, 11.0, 10.0, 9.0, 8.0, 7.0, 6.0, 5.0, 4.0, 3.0, 2.0, 1.0, -2.447999954223633, -2.4593000411987305, -2.202399969100952, -2.5380001068115234, -2.538100004196167, -2.5687999725341797, -2.59060001373291, -2.4223999977111816, -2.2018001079559326, -2.467600107192993, -2.7769999504089355, -2.7881999015808105, -2.4658000469207764, -2.4742000102996826, -2.203000068664551, -2.01419997215271, -2.239500045776367, -2.640199899673462, -2.6638998985290527, -2.699199914932251, -2.6993000507354736, -2.4718000888824463, -2.8015999794006348, -2.818000078201294]}, \"token.table\": {\"Topic\": [1, 2, 1, 2, 1, 2, 1, 2, 1, 2, 1, 2, 1, 2, 1, 2, 1, 2, 1, 2, 1, 2, 1, 2], \"Freq\": [0.4710252285003662, 0.4710252285003662, 0.4720706641674042, 0.4720706641674042, 0.7058883905410767, 0.35294419527053833, 0.47086021304130554, 0.47086021304130554, 0.47034674882888794, 0.47034674882888794, 0.4704137444496155, 0.4704137444496155, 0.4711397886276245, 0.4711397886276245, 0.4708600342273712, 0.4708600342273712, 0.5660829544067383, 0.5660829544067383, 0.47202232480049133, 0.47202232480049133, 0.35379305481910706, 0.7075861096382141, 0.35394591093063354, 0.7078918218612671], \"Term\": [\"computer\", \"computer\", \"eps\", \"eps\", \"graph\", \"graph\", \"human\", \"human\", \"interface\", \"interface\", \"minors\", \"minors\", \"response\", \"response\", \"survey\", \"survey\", \"system\", \"system\", \"time\", \"time\", \"trees\", \"trees\", \"user\", \"user\"]}, \"R\": 12, \"lambda.step\": 0.01, \"plot.opts\": {\"xlab\": \"PC1\", \"ylab\": \"PC2\"}, \"topic.order\": [1, 2]};\n",
       "\n",
       "function LDAvis_load_lib(url, callback){\n",
       "  var s = document.createElement('script');\n",
       "  s.src = url;\n",
       "  s.async = true;\n",
       "  s.onreadystatechange = s.onload = callback;\n",
       "  s.onerror = function(){console.warn(\"failed to load library \" + url);};\n",
       "  document.getElementsByTagName(\"head\")[0].appendChild(s);\n",
       "}\n",
       "\n",
       "if(typeof(LDAvis) !== \"undefined\"){\n",
       "   // already loaded: just create the visualization\n",
       "   !function(LDAvis){\n",
       "       new LDAvis(\"#\" + \"ldavis_el1430029696677589849197230257\", ldavis_el1430029696677589849197230257_data);\n",
       "   }(LDAvis);\n",
       "}else if(typeof define === \"function\" && define.amd){\n",
       "   // require.js is available: use it to load d3/LDAvis\n",
       "   require.config({paths: {d3: \"https://cdnjs.cloudflare.com/ajax/libs/d3/3.5.5/d3.min\"}});\n",
       "   require([\"d3\"], function(d3){\n",
       "      window.d3 = d3;\n",
       "      LDAvis_load_lib(\"https://cdn.rawgit.com/bmabey/pyLDAvis/files/ldavis.v1.0.0.js\", function(){\n",
       "        new LDAvis(\"#\" + \"ldavis_el1430029696677589849197230257\", ldavis_el1430029696677589849197230257_data);\n",
       "      });\n",
       "    });\n",
       "}else{\n",
       "    // require.js not available: dynamically load d3 & LDAvis\n",
       "    LDAvis_load_lib(\"https://cdnjs.cloudflare.com/ajax/libs/d3/3.5.5/d3.min.js\", function(){\n",
       "         LDAvis_load_lib(\"https://cdn.rawgit.com/bmabey/pyLDAvis/files/ldavis.v1.0.0.js\", function(){\n",
       "                 new LDAvis(\"#\" + \"ldavis_el1430029696677589849197230257\", ldavis_el1430029696677589849197230257_data);\n",
       "            })\n",
       "         });\n",
       "}\n",
       "</script>"
      ],
      "text/plain": [
       "PreparedData(topic_coordinates=            Freq  cluster  topics         x    y\n",
       "topic                                           \n",
       "0      50.806694        1       1  0.003649  0.0\n",
       "1      49.193306        1       2 -0.003649  0.0, topic_info=     Category      Freq       Term     Total  loglift  logprob\n",
       "term                                                          \n",
       "8     Default  2.000000        eps  2.000000  12.0000  12.0000\n",
       "7     Default  2.000000       user  2.000000  11.0000  11.0000\n",
       "2     Default  2.000000  interface  2.000000  10.0000  10.0000\n",
       "6     Default  2.000000       time  2.000000   9.0000   9.0000\n",
       "11    Default  2.000000     minors  2.000000   8.0000   8.0000\n",
       "5     Default  3.000000     system  3.000000   7.0000   7.0000\n",
       "10    Default  2.000000      graph  2.000000   6.0000   6.0000\n",
       "9     Default  2.000000      trees  2.000000   5.0000   5.0000\n",
       "4     Default  2.000000     survey  2.000000   4.0000   4.0000\n",
       "1     Default  2.000000      human  2.000000   3.0000   3.0000\n",
       "0     Default  2.000000   computer  2.000000   2.0000   2.0000\n",
       "3     Default  2.000000   response  2.000000   1.0000   1.0000\n",
       "2      Topic1  1.274010  interface  2.126091   0.1650  -2.4480\n",
       "11     Topic1  1.259669     minors  2.125788   0.1538  -2.4593\n",
       "10     Topic1  1.628729      graph  2.833309   0.1235  -2.2024\n",
       "4      Topic1  1.164334     survey  2.123773   0.0761  -2.5380\n",
       "1      Topic1  1.164247      human  2.123773   0.0760  -2.5381\n",
       "0      Topic1  1.129063   computer  2.123029   0.0457  -2.5688\n",
       "3      Topic1  1.104637   response  2.122512   0.0241  -2.5906\n",
       "9      Topic1  1.306988      trees  2.826511  -0.0942  -2.4224\n",
       "5      Topic1  1.629610     system  3.533051  -0.0967  -2.2018\n",
       "7      Topic1  1.249223       user  2.825290  -0.1389  -2.4676\n",
       "6      Topic1  0.916863       time  2.118544  -0.1604  -2.7770\n",
       "8      Topic1  0.906566        eps  2.118327  -0.1716  -2.7882\n",
       "8      Topic2  1.211761        eps  2.118327   0.1509  -2.4658\n",
       "6      Topic2  1.201681       time  2.118544   0.1424  -2.4742\n",
       "7      Topic2  1.576068       user  2.825290   0.1257  -2.2030\n",
       "5      Topic2  1.903441     system  3.533051   0.0909  -2.0142\n",
       "9      Topic2  1.519523      trees  2.826511   0.0888  -2.2395\n",
       "3      Topic2  1.017875   response  2.122512  -0.0255  -2.6402\n",
       "0      Topic2  0.993966   computer  2.123029  -0.0495  -2.6639\n",
       "1      Topic2  0.959525      human  2.123773  -0.0851  -2.6992\n",
       "4      Topic2  0.959439     survey  2.123773  -0.0852  -2.6993\n",
       "10     Topic2  1.204580      graph  2.833309  -0.1459  -2.4718\n",
       "11     Topic2  0.866119     minors  2.125788  -0.1885  -2.8016\n",
       "2      Topic2  0.852081  interface  2.126091  -0.2049  -2.8180, token_table=      Topic      Freq       Term\n",
       "term                            \n",
       "0         1  0.471025   computer\n",
       "0         2  0.471025   computer\n",
       "8         1  0.472071        eps\n",
       "8         2  0.472071        eps\n",
       "10        1  0.705888      graph\n",
       "10        2  0.352944      graph\n",
       "1         1  0.470860      human\n",
       "1         2  0.470860      human\n",
       "2         1  0.470347  interface\n",
       "2         2  0.470347  interface\n",
       "11        1  0.470414     minors\n",
       "11        2  0.470414     minors\n",
       "3         1  0.471140   response\n",
       "3         2  0.471140   response\n",
       "4         1  0.470860     survey\n",
       "4         2  0.470860     survey\n",
       "5         1  0.566083     system\n",
       "5         2  0.566083     system\n",
       "6         1  0.472022       time\n",
       "6         2  0.472022       time\n",
       "9         1  0.353793      trees\n",
       "9         2  0.707586      trees\n",
       "7         1  0.353946       user\n",
       "7         2  0.707892       user, R=12, lambda_step=0.01, plot_opts={'xlab': 'PC1', 'ylab': 'PC2'}, topic_order=[1, 2])"
      ]
     },
     "execution_count": 13,
     "metadata": {},
     "output_type": "execute_result"
    }
   ],
   "source": [
    "# Visualize topic models\n",
    "pyLDAvis.enable_notebook()\n",
    "pyLDAvis.gensim.prepare(badLdaModel, corpus, dictionary)\n"
   ]
  },
  {
   "cell_type": "code",
   "execution_count": null,
   "metadata": {},
   "outputs": [],
   "source": []
  }
 ],
 "metadata": {
  "kernelspec": {
   "display_name": "Python 3",
   "language": "python",
   "name": "python3"
  },
  "language_info": {
   "codemirror_mode": {
    "name": "ipython",
    "version": 3
   },
   "file_extension": ".py",
   "mimetype": "text/x-python",
   "name": "python",
   "nbconvert_exporter": "python",
   "pygments_lexer": "ipython3",
   "version": "3.6.0"
  }
 },
 "nbformat": 4,
 "nbformat_minor": 2
}
