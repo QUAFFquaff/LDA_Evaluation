{
 "cells": [
  {
   "cell_type": "code",
   "execution_count": 1,
   "metadata": {},
   "outputs": [],
   "source": [
    "import numpy as np\n",
    "import logging\n",
    "import pyLDAvis.gensim\n",
    "import json\n",
    "import warnings"
   ]
  },
  {
   "cell_type": "code",
   "execution_count": 2,
   "metadata": {},
   "outputs": [],
   "source": [
    "# add log\n",
    "warnings.filterwarnings('ignore')  # To ignore all warnings that arise here to enhance clarit"
   ]
  },
  {
   "cell_type": "code",
   "execution_count": 3,
   "metadata": {},
   "outputs": [],
   "source": [
    "from gensim.models.coherencemodel import CoherenceModel\n",
    "from gensim.models.ldamodel import LdaModel\n",
    "from gensim.corpora.dictionary import Dictionary\n",
    "from numpy import array"
   ]
  },
  {
   "cell_type": "code",
   "execution_count": 4,
   "metadata": {},
   "outputs": [],
   "source": [
    "# set up logging\n",
    "# logger = logging.getLogger()\n",
    "# logger.setLevel(logging.DEBUG)\n",
    "# logging.debug(\"test\")"
   ]
  },
  {
   "cell_type": "code",
   "execution_count": 5,
   "metadata": {},
   "outputs": [],
   "source": [
    "# set up corpus\n",
    "texts = [['oha', 'hvva', 'hv', 'ah', 'ah', 'ch', 'a', 'h'],\n",
    "         ['ajc', 'va', 'ohx', 'ajcva'],\n",
    "         ['oa', 'h', 'va', 'o']\n",
    "         ,[ 'qjch', 'vcoa', 'h', 'qajc'],\n",
    "         ['v', 'h', 'ha', 'ha', 'va', 'h', 'a', 'h', 'a', 'h', 'qoo'],\n",
    "         ['o', 'oo', 'oooh', 'aoah', 'aha'],\n",
    "         [ 'oh', 'aa', 'h', 'a', 'h', 'vv', 'a', 'ahh', 'oao', 'a', 'o', 'ho', 'o', 'o', 'o'],\n",
    "         ['ojcojc', 'jcx', 'h', 'xa', 'o', 'a', 'hah', 'jcj', 'cxa'],\n",
    "         ['a', 'h', 'ah', 'ah', 'aho'],\n",
    "         ['jccjcca', 'qj', 'a', 'oa', 'ho', 'haa', 'oooo', 'oa', 'ojxcoo'],\n",
    "         ['o', 'ha', 'o', 'hh', 'a', 'a', 'h', 'a', 'h', 'ah', 'a', 'h', 'aq', 'qo', 'o'],\n",
    "         ['h', 'haa', 'oahah', 'oahoo', 'iahah', 'hbibh', 'hp', 'bvbhoo', 'oah', 'aohaoo'],\n",
    "         [ 'a', 'hah', 'ao', 'obhb', 'hoa', 'ao', 'a', 'ojcch', 'o', 'ah', 'bh'], \n",
    "         ['hah', 'ao', 'o', 'ahah', 'hhhah', 'h', 'hhahah', 'h', 'b', 'aaaa', 'a', 'ahha'],\n",
    "         ['a', 'a', 'a', 'a', 'aa', 'aa', 'aba', 'a', 'a', 'ah', 'a', 'a', 'a', 'ah', 'bhaha', 'hh', 'hihh', 'a', 'aa', 'aaha', 'ab'], \n",
    "         ['oaoo', 'ohao', 'aoao', 'aoao', 'aha', 'oh', 'a', 'h', 'a', 'h', 'a', 'oa', 'oa', 'hoao', 'hao', 'ha', 'h', 'a', 'vva', 'oa'],\n",
    "         ['ahaah', 'aha', 'ho', 'aoaoo', 'o', 'oo', 'oah', 'hoha', 'hv', 'aoa', 'oaooo', 'aoa'],\n",
    "         ['oib', 'jcoqq', 'qjaha', 'ajaajwa', 'q', 'va', 'b', 'oh', 'o', 'oho', 'piaq', 'jj', 'v', 'jxaq', 'ia', 'iajaia', 'qjcxqa', 'oojxc', 'q', 'bioapa', 'pa', 'ho', 'va', 'hoib', 'ha', 'h', 'c', 'h', 'h', 'b', 'h', 'ch', 'ah', 'j', 'bo', 'ivjcp', 'jah', 'bv', 'ho']\n",
    "        ,['oib', 'jcoqq', 'qjaha', 'ajaajwa', 'q', 'va', 'b', 'oh', 'o', 'oho', 'piaq', 'jj', 'v', 'jxaq', 'ia', 'iajaia', 'qjcxqa', 'oojxc', 'q', 'bioapa', 'pa', 'ho'],\n",
    "         ['va', 'hoib', 'ha', 'h', 'c', 'h', 'h', 'b', 'h', 'ch', 'ah', 'j', 'bo', 'ivjcp', 'jah', 'bv', 'ho']\n",
    "        ,['a','a','a','a','a','h','h','ah','ahh','ahh','ha','hha','hah','hh','aa']\n",
    "        ,['o','v','a','av','aoo','oo','a','h','ho','oh','av','hv','oa','ov'],\n",
    "        ['aahh','ahahh','haha','ahha'],\n",
    "        ['b','i','i','b','bi','ib','pw'],\n",
    "        ['c','j','cj','qx','c','cjcj','jc','xc','cjxc','j'],\n",
    "        ['b','bibi','ib','bi','bp','pi','bpi','w','bw','ip','ipp','bbi','iib'],\n",
    "        ['b','bb','ii','biib','abb','bii','abib','bhjicad']]\n",
    "\n",
    "\n",
    "dictionary = Dictionary(texts)\n",
    "\n",
    "# convert tokenized documents into a document-term matrix\n",
    "corpus = [dictionary.doc2bow(text) for text in texts]"
   ]
  },
  {
   "cell_type": "code",
   "execution_count": 6,
   "metadata": {},
   "outputs": [],
   "source": [
    "# set up two topic models\n",
    "goodLdaModel = LdaModel(corpus=corpus, id2word=dictionary, iterations=500,random_state=9, num_topics=4)\n",
    "badLdaModel = LdaModel(corpus=corpus, id2word=dictionary, iterations=100,random_state=9, num_topics=4)"
   ]
  },
  {
   "cell_type": "code",
   "execution_count": 7,
   "metadata": {},
   "outputs": [],
   "source": [
    "# using U_Mass Coherence\n",
    "goodcm = CoherenceModel(model=goodLdaModel, corpus=corpus, dictionary=dictionary, coherence='u_mass')\n",
    "badcm = CoherenceModel(model=badLdaModel, corpus=corpus, dictionary=dictionary, coherence='u_mass')"
   ]
  },
  {
   "cell_type": "code",
   "execution_count": null,
   "metadata": {},
   "outputs": [],
   "source": [
    "# Visualize topic models\n",
    "pyLDAvis.enable_notebook()\n",
    "pyLDAvis.gensim.prepare(goodLdaModel, corpus, dictionary)"
   ]
  },
  {
   "cell_type": "code",
   "execution_count": null,
   "metadata": {},
   "outputs": [],
   "source": [
    "# Visualize topic models\n",
    "pyLDAvis.enable_notebook()\n",
    "pyLDAvis.gensim.prepare(badLdaModel, corpus, dictionary)\n"
   ]
  },
  {
   "cell_type": "code",
   "execution_count": null,
   "metadata": {},
   "outputs": [],
   "source": [
    "print(goodcm.get_coherence())"
   ]
  },
  {
   "cell_type": "code",
   "execution_count": null,
   "metadata": {},
   "outputs": [],
   "source": [
    "goodcm = CoherenceModel(model=goodLdaModel, texts=texts, dictionary=dictionary, coherence='c_v')"
   ]
  },
  {
   "cell_type": "code",
   "execution_count": null,
   "metadata": {},
   "outputs": [],
   "source": [
    "print(goodcm)"
   ]
  },
  {
   "cell_type": "code",
   "execution_count": null,
   "metadata": {},
   "outputs": [],
   "source": [
    "print(goodcm.get_coherence())"
   ]
  },
  {
   "cell_type": "code",
   "execution_count": null,
   "metadata": {},
   "outputs": [],
   "source": [
    "goodcm = CohereucieModel(model=goodLdaModel, texts=texts, dictionary=dictionary, coherence='uci')"
   ]
  }
 ],
 "metadata": {
  "kernelspec": {
   "display_name": "Python 3",
   "language": "python",
   "name": "python3"
  },
  "language_info": {
   "codemirror_mode": {
    "name": "ipython",
    "version": 3
   },
   "file_extension": ".py",
   "mimetype": "text/x-python",
   "name": "python",
   "nbconvert_exporter": "python",
   "pygments_lexer": "ipython3",
   "version": "3.6.0"
  }
 },
 "nbformat": 4,
 "nbformat_minor": 2
}
